{
  "cells": [
    {
      "cell_type": "code",
      "execution_count": 1,
      "metadata": {
        "colab": {
          "base_uri": "https://localhost:8080/"
        },
        "id": "618a893c",
        "outputId": "2a1d9aa0-c0c9-485f-c8a9-22fce0e74f14"
      },
      "outputs": [
        {
          "output_type": "stream",
          "name": "stdout",
          "text": [
            "Looking in indexes: https://pypi.org/simple, https://us-python.pkg.dev/colab-wheels/public/simple/\n",
            "Collecting jsonlines\n",
            "  Downloading jsonlines-3.1.0-py3-none-any.whl (8.6 kB)\n",
            "Requirement already satisfied: attrs>=19.2.0 in /usr/local/lib/python3.10/dist-packages (from jsonlines) (23.1.0)\n",
            "Installing collected packages: jsonlines\n",
            "Successfully installed jsonlines-3.1.0\n"
          ]
        }
      ],
      "source": [
        "pip install jsonlines"
      ],
      "id": "618a893c"
    },
    {
      "cell_type": "code",
      "execution_count": 2,
      "metadata": {
        "colab": {
          "base_uri": "https://localhost:8080/"
        },
        "id": "e-WTN0vyeGwc",
        "outputId": "12114e04-be12-43fd-e44f-16d95f9ae703"
      },
      "outputs": [
        {
          "output_type": "stream",
          "name": "stdout",
          "text": [
            "Mounted at /content/drive\n"
          ]
        }
      ],
      "source": [
        "# dataset files from google drive\n",
        "from google.colab import drive\n",
        "drive.mount('/content/drive')"
      ],
      "id": "e-WTN0vyeGwc"
    },
    {
      "cell_type": "code",
      "execution_count": 3,
      "metadata": {
        "id": "69e1bd51"
      },
      "outputs": [],
      "source": [
        "import os\n",
        "import pandas as pd\n",
        "import json\n",
        "import random"
      ],
      "id": "69e1bd51"
    },
    {
      "cell_type": "code",
      "source": [
        "#random.seed(42)\n",
        "def generateSim1(problem1, problem2):\n",
        "\n",
        "    with open(f\"/content/drive/MyDrive/CZ4079_FYP/PreTrained_3_UniXcoder/dataset/data.jsonl\", 'r') as json_file:\n",
        "        json_list = list(json_file)\n",
        "\n",
        "\n",
        "    random.shuffle(json_list)\n",
        "    idx2task = {}\n",
        "\n",
        "    for i in range(len(json_list)):\n",
        "        json_list[i] = json.loads(json_list[i])\n",
        "        idx2task[json_list[i][\"idx\"]] = json_list[i][\"Task\"]\n",
        "    \n",
        "    df = pd.DataFrame(json_list)\n",
        "    p1 = df[df.Task == problem1]\n",
        "    p2 = df[df.Task == problem2]\n",
        "\n",
        "    merged = p1.merge(p2, how=\"cross\")\n",
        "\n",
        "    data = list(merged[[\"idx_x\", \"idx_y\"]].values)\n",
        "    random.shuffle(data)\n",
        "\n",
        "    with open(f\"/content/drive/MyDrive/CZ4079_FYP/PreTrained_3_UniXcoder/dataset/{problem1}_vs_{problem2}.txt\",\"w\") as t:\n",
        "        for ex in data:\n",
        "            t.write(str(ex[0])+'\\t'+str(ex[1])+'\\t'+str(1)+'\\n')\n",
        "  "
      ],
      "metadata": {
        "id": "s41kAmGzt4UE"
      },
      "id": "s41kAmGzt4UE",
      "execution_count": 4,
      "outputs": []
    },
    {
      "cell_type": "code",
      "source": [
        "import json\n",
        "import random\n",
        "#random.seed(42)\n",
        "def generateSim0(problem1, problem2):\n",
        "\n",
        "    with open(f\"/content/drive/MyDrive/CZ4079_FYP/PreTrained_3_UniXcoder/dataset/data.jsonl\", 'r') as json_file:\n",
        "        json_list = list(json_file)\n",
        "\n",
        "\n",
        "    random.shuffle(json_list)\n",
        "    idx2task = {}\n",
        "\n",
        "    for i in range(len(json_list)):\n",
        "        json_list[i] = json.loads(json_list[i])\n",
        "        idx2task[json_list[i][\"idx\"]] = json_list[i][\"Task\"]\n",
        "    \n",
        "    df = pd.DataFrame(json_list)\n",
        "    p1 = df[df.Task == problem1]\n",
        "    p2 = df[df.Task == problem2]\n",
        "\n",
        "    merged = p1.merge(p2, how=\"cross\")\n",
        "\n",
        "    data = list(merged[[\"idx_x\", \"idx_y\"]].values)\n",
        "    random.shuffle(data)\n",
        "\n",
        "    with open(f\"/content/drive/MyDrive/CZ4079_FYP/PreTrained_3_UniXcoder/dataset/{problem1}_vs_{problem2}.txt\",\"w\") as t:\n",
        "        for ex in data:\n",
        "            t.write(str(ex[0])+'\\t'+str(ex[1])+'\\t'+str(0)+'\\n')\n",
        "  "
      ],
      "metadata": {
        "id": "eOHKRX4RYVxc"
      },
      "id": "eOHKRX4RYVxc",
      "execution_count": 5,
      "outputs": []
    },
    {
      "cell_type": "code",
      "source": [
        "#generateSim1(\"1462C\", \"1714C\")\n",
        "#generateSim0(\"1462C\", \"1714D\")\n",
        "#generateSim1(\"765F\", \"1793F\")\n",
        "#generateSim0(\"1389E\", \"1542C\")\n",
        "#generateSim1(\"1706D1\", \"1706D2\")\n",
        "#generateSim0(\"1551D1\", \"1551D2\")\n",
        "#generateSim1(\"923B\", \"1795C\")\n",
        "#generateSim1(\"342E\", \"1790F\")\n",
        "#generateSim1(\"1141E\", \"1490G\")\n",
        "#generateSim1(\"632C\", \"1771B\")\n",
        "#generateSim1(\"13C\", \"713C\")\n",
        "#generateSim0(\"1795A\",\"1795B\")\n",
        "#generateSim1(\"1667B\", \"1788E\")\n",
        "#generateSim0(\"1667B\", \"1788F\")\n",
        "#generateSim1(\"1783D\", \"1544F\")\n",
        "#generateSim1(\"1479D\", \"1771F\")\n",
        "#generateSim1(\"1329D\", \"1672H\")\n",
        "#generateSim0(\"1732D1\", \"1732D2\")\n",
        "#generateSim0(\"1607E\", \"1607F\")\n",
        "#generateSim0(\"1566B\", \"1566C\")\n",
        "#generateSim0(\"1786A1\", \"1786A2\")\n",
        "#generateSim0(\"1625D\", \"1775D\")\n",
        "#generateSim1(\"652C\", \"1771B\")\n",
        "generateSim0(\"1623A\", \"1623D\")"
      ],
      "metadata": {
        "id": "lCtEDFkM6tFW"
      },
      "id": "lCtEDFkM6tFW",
      "execution_count": 6,
      "outputs": []
    }
  ],
  "metadata": {
    "colab": {
      "provenance": []
    },
    "kernelspec": {
      "display_name": "Python 3.9.12 ('base')",
      "language": "python",
      "name": "python3"
    },
    "language_info": {
      "codemirror_mode": {
        "name": "ipython",
        "version": 3
      },
      "file_extension": ".py",
      "mimetype": "text/x-python",
      "name": "python",
      "nbconvert_exporter": "python",
      "pygments_lexer": "ipython3",
      "version": "3.9.12"
    },
    "vscode": {
      "interpreter": {
        "hash": "c22866e51af45ad359ba882887a9cf246bec6b2fcc035a93c40774803488f20b"
      }
    }
  },
  "nbformat": 4,
  "nbformat_minor": 5
}